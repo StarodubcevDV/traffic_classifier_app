{
  "nbformat": 4,
  "nbformat_minor": 0,
  "metadata": {
    "colab": {
      "name": "traffic_classifier.ipynb",
      "provenance": [],
      "collapsed_sections": []
    },
    "kernelspec": {
      "name": "python3",
      "display_name": "Python 3"
    },
    "accelerator": "GPU"
  },
  "cells": [
    {
      "cell_type": "code",
      "metadata": {
        "id": "ZUhHqL1Z6Vu8"
      },
      "source": [
        "import pandas as pd\n",
        "import numpy as np\n",
        "import tensorflow as tf\n",
        "import zipfile\n",
        "from sklearn.preprocessing import LabelEncoder, StandardScaler, Normalizer\n",
        "from sklearn.model_selection import train_test_split\n",
        "\n",
        "import sklearn\n",
        "from keras.models import Sequential, load_model\n",
        "from keras.layers import Dense, LSTM, Bidirectional, Embedding, Input, GlobalMaxPooling1D, Lambda, Concatenate, Activation, Dropout\n",
        "\n",
        "import keras.backend as K"
      ],
      "execution_count": null,
      "outputs": []
    },
    {
      "cell_type": "code",
      "metadata": {
        "id": "mmz96VdePFD2"
      },
      "source": [
        "data_normal = pd.read_csv('/content/final_train_data.csv')  # Считывание данных"
      ],
      "execution_count": null,
      "outputs": []
    },
    {
      "cell_type": "code",
      "metadata": {
        "colab": {
          "base_uri": "https://localhost:8080/"
        },
        "id": "0eqBgv0QENDW",
        "outputId": "d505b6ab-3d34-4555-ec90-2ee7869a76ea"
      },
      "source": [
        "!nvidia-smi"
      ],
      "execution_count": null,
      "outputs": [
        {
          "output_type": "stream",
          "text": [
            "Fri May 28 06:08:42 2021       \n",
            "+-----------------------------------------------------------------------------+\n",
            "| NVIDIA-SMI 465.19.01    Driver Version: 460.32.03    CUDA Version: 11.2     |\n",
            "|-------------------------------+----------------------+----------------------+\n",
            "| GPU  Name        Persistence-M| Bus-Id        Disp.A | Volatile Uncorr. ECC |\n",
            "| Fan  Temp  Perf  Pwr:Usage/Cap|         Memory-Usage | GPU-Util  Compute M. |\n",
            "|                               |                      |               MIG M. |\n",
            "|===============================+======================+======================|\n",
            "|   0  Tesla T4            Off  | 00000000:00:04.0 Off |                    0 |\n",
            "| N/A   50C    P8    11W /  70W |      0MiB / 15109MiB |      0%      Default |\n",
            "|                               |                      |                  N/A |\n",
            "+-------------------------------+----------------------+----------------------+\n",
            "                                                                               \n",
            "+-----------------------------------------------------------------------------+\n",
            "| Processes:                                                                  |\n",
            "|  GPU   GI   CI        PID   Type   Process name                  GPU Memory |\n",
            "|        ID   ID                                                   Usage      |\n",
            "|=============================================================================|\n",
            "|  No running processes found                                                 |\n",
            "+-----------------------------------------------------------------------------+\n"
          ],
          "name": "stdout"
        }
      ]
    },
    {
      "cell_type": "code",
      "metadata": {
        "colab": {
          "base_uri": "https://localhost:8080/",
          "height": 402
        },
        "id": "APATTJper7qh",
        "outputId": "2d4ca24c-c3b1-4d6d-d3fa-dcdff90cfdfb"
      },
      "source": [
        "labels = data_normal[['label', 'num_label']]  # Вывод лейблов\n",
        "labels"
      ],
      "execution_count": null,
      "outputs": [
        {
          "output_type": "execute_result",
          "data": {
            "text/html": [
              "<div>\n",
              "<style scoped>\n",
              "    .dataframe tbody tr th:only-of-type {\n",
              "        vertical-align: middle;\n",
              "    }\n",
              "\n",
              "    .dataframe tbody tr th {\n",
              "        vertical-align: top;\n",
              "    }\n",
              "\n",
              "    .dataframe thead th {\n",
              "        text-align: right;\n",
              "    }\n",
              "</style>\n",
              "<table border=\"1\" class=\"dataframe\">\n",
              "  <thead>\n",
              "    <tr style=\"text-align: right;\">\n",
              "      <th></th>\n",
              "      <th>label</th>\n",
              "      <th>num_label</th>\n",
              "    </tr>\n",
              "  </thead>\n",
              "  <tbody>\n",
              "    <tr>\n",
              "      <th>0</th>\n",
              "      <td>normal</td>\n",
              "      <td>2</td>\n",
              "    </tr>\n",
              "    <tr>\n",
              "      <th>1</th>\n",
              "      <td>normal</td>\n",
              "      <td>2</td>\n",
              "    </tr>\n",
              "    <tr>\n",
              "      <th>2</th>\n",
              "      <td>normal</td>\n",
              "      <td>2</td>\n",
              "    </tr>\n",
              "    <tr>\n",
              "      <th>3</th>\n",
              "      <td>normal</td>\n",
              "      <td>2</td>\n",
              "    </tr>\n",
              "    <tr>\n",
              "      <th>4</th>\n",
              "      <td>normal</td>\n",
              "      <td>2</td>\n",
              "    </tr>\n",
              "    <tr>\n",
              "      <th>...</th>\n",
              "      <td>...</td>\n",
              "      <td>...</td>\n",
              "    </tr>\n",
              "    <tr>\n",
              "      <th>5179</th>\n",
              "      <td>guess_passwd</td>\n",
              "      <td>0</td>\n",
              "    </tr>\n",
              "    <tr>\n",
              "      <th>5180</th>\n",
              "      <td>guess_passwd</td>\n",
              "      <td>0</td>\n",
              "    </tr>\n",
              "    <tr>\n",
              "      <th>5181</th>\n",
              "      <td>guess_passwd</td>\n",
              "      <td>0</td>\n",
              "    </tr>\n",
              "    <tr>\n",
              "      <th>5182</th>\n",
              "      <td>guess_passwd</td>\n",
              "      <td>0</td>\n",
              "    </tr>\n",
              "    <tr>\n",
              "      <th>5183</th>\n",
              "      <td>guess_passwd</td>\n",
              "      <td>0</td>\n",
              "    </tr>\n",
              "  </tbody>\n",
              "</table>\n",
              "<p>5184 rows × 2 columns</p>\n",
              "</div>"
            ],
            "text/plain": [
              "             label  num_label\n",
              "0           normal          2\n",
              "1           normal          2\n",
              "2           normal          2\n",
              "3           normal          2\n",
              "4           normal          2\n",
              "...            ...        ...\n",
              "5179  guess_passwd          0\n",
              "5180  guess_passwd          0\n",
              "5181  guess_passwd          0\n",
              "5182  guess_passwd          0\n",
              "5183  guess_passwd          0\n",
              "\n",
              "[5184 rows x 2 columns]"
            ]
          },
          "metadata": {
            "tags": []
          },
          "execution_count": 8
        }
      ]
    },
    {
      "cell_type": "code",
      "metadata": {
        "id": "48ZbW9gEsHjl"
      },
      "source": [
        "data_normal = data_normal.drop(['label'], axis=1) # Удаление лейблов из обучающего набора"
      ],
      "execution_count": null,
      "outputs": []
    },
    {
      "cell_type": "code",
      "metadata": {
        "id": "pNwrPOw5PNVR"
      },
      "source": [
        "Y = data_normal['num_label']  # Разделение для обучения\n",
        "X = data_normal.drop(['num_label'], axis=1)"
      ],
      "execution_count": null,
      "outputs": []
    },
    {
      "cell_type": "code",
      "metadata": {
        "id": "3m6-vRw_jyUI"
      },
      "source": [
        "scaler = Normalizer().fit(X)  # Нормализация данных\n",
        "trainX = scaler.transform(X)"
      ],
      "execution_count": null,
      "outputs": []
    },
    {
      "cell_type": "code",
      "metadata": {
        "id": "TYAN4wkL_fNl"
      },
      "source": [
        "# Разделение на тестовый и обучающие наборы\n",
        "X_train, X_test, Y_train, Y_test = train_test_split(trainX, Y, test_size = 0.2, shuffle = True)"
      ],
      "execution_count": null,
      "outputs": []
    },
    {
      "cell_type": "code",
      "metadata": {
        "id": "8ylAyZm0_9-9"
      },
      "source": [
        "# Привидение типов\n",
        "X_train = np.asarray(X_train).astype('float64')\n",
        "X_test = np.asarray(X_test).astype('float64')\n",
        "Y_train = np.asarray(Y_train).astype('float64')\n",
        "Y_test = np.asarray(Y_test).astype('float64')"
      ],
      "execution_count": null,
      "outputs": []
    },
    {
      "cell_type": "code",
      "metadata": {
        "id": "e1qzlRBEn9IL"
      },
      "source": [
        "# Привидение лейблов для классификации\n",
        "Y_train = tf.keras.utils.to_categorical(Y_train, 4)\n",
        "Y_test = tf.keras.utils.to_categorical(Y_test, 4)"
      ],
      "execution_count": null,
      "outputs": []
    },
    {
      "cell_type": "code",
      "metadata": {
        "id": "7YrIfpoBhdGr"
      },
      "source": [
        "# Изменение формы данных для подачи на LSTM слой\n",
        "x_train = X_train.reshape(4147,1,39)\n",
        "x_test = X_test.reshape(1037, 1, 39)"
      ],
      "execution_count": null,
      "outputs": []
    },
    {
      "cell_type": "code",
      "metadata": {
        "id": "VCjviQkwADdp"
      },
      "source": [
        "model = Sequential()\n",
        "model.add(LSTM(256,input_dim=39))\n",
        "model.add(Dropout(0.2))\n",
        "model.add(Dense(4))\n",
        "model.add(Activation('softmax'))"
      ],
      "execution_count": null,
      "outputs": []
    },
    {
      "cell_type": "code",
      "metadata": {
        "id": "3DEEhlNOjCUl"
      },
      "source": [
        "model.compile(loss='categorical_crossentropy', optimizer='adam', metrics=['accuracy'])"
      ],
      "execution_count": null,
      "outputs": []
    },
    {
      "cell_type": "code",
      "metadata": {
        "colab": {
          "base_uri": "https://localhost:8080/"
        },
        "id": "vnr6FjOOAPoQ",
        "outputId": "c86f684c-ef2c-4b75-8761-843e0fdfa593"
      },
      "source": [
        "history = model.fit(x_train, Y_train, batch_size=32, epochs = 70, validation_split=0.1, verbose = 1)"
      ],
      "execution_count": null,
      "outputs": [
        {
          "output_type": "stream",
          "text": [
            "Epoch 1/70\n",
            "117/117 [==============================] - 2s 7ms/step - loss: 1.2703 - accuracy: 0.5931 - val_loss: 0.7902 - val_accuracy: 0.7759\n",
            "Epoch 2/70\n",
            "117/117 [==============================] - 0s 4ms/step - loss: 0.7143 - accuracy: 0.7006 - val_loss: 0.5962 - val_accuracy: 0.7373\n",
            "Epoch 3/70\n",
            "117/117 [==============================] - 0s 4ms/step - loss: 0.5604 - accuracy: 0.7377 - val_loss: 0.5344 - val_accuracy: 0.8096\n",
            "Epoch 4/70\n",
            "117/117 [==============================] - 0s 4ms/step - loss: 0.5212 - accuracy: 0.7755 - val_loss: 0.4835 - val_accuracy: 0.8145\n",
            "Epoch 5/70\n",
            "117/117 [==============================] - 0s 4ms/step - loss: 0.4794 - accuracy: 0.8368 - val_loss: 0.4359 - val_accuracy: 0.8940\n",
            "Epoch 6/70\n",
            "117/117 [==============================] - 0s 4ms/step - loss: 0.4219 - accuracy: 0.8690 - val_loss: 0.3903 - val_accuracy: 0.8867\n",
            "Epoch 7/70\n",
            "117/117 [==============================] - 0s 3ms/step - loss: 0.3761 - accuracy: 0.8866 - val_loss: 0.3438 - val_accuracy: 0.9277\n",
            "Epoch 8/70\n",
            "117/117 [==============================] - 0s 4ms/step - loss: 0.3291 - accuracy: 0.9191 - val_loss: 0.3067 - val_accuracy: 0.9253\n",
            "Epoch 9/70\n",
            "117/117 [==============================] - 0s 4ms/step - loss: 0.2873 - accuracy: 0.9230 - val_loss: 0.2774 - val_accuracy: 0.9373\n",
            "Epoch 10/70\n",
            "117/117 [==============================] - 0s 4ms/step - loss: 0.2590 - accuracy: 0.9264 - val_loss: 0.2442 - val_accuracy: 0.9422\n",
            "Epoch 11/70\n",
            "117/117 [==============================] - 0s 4ms/step - loss: 0.2282 - accuracy: 0.9451 - val_loss: 0.2269 - val_accuracy: 0.9566\n",
            "Epoch 12/70\n",
            "117/117 [==============================] - 0s 4ms/step - loss: 0.2165 - accuracy: 0.9487 - val_loss: 0.2108 - val_accuracy: 0.9470\n",
            "Epoch 13/70\n",
            "117/117 [==============================] - 0s 4ms/step - loss: 0.1869 - accuracy: 0.9539 - val_loss: 0.1963 - val_accuracy: 0.9542\n",
            "Epoch 14/70\n",
            "117/117 [==============================] - 0s 4ms/step - loss: 0.1733 - accuracy: 0.9594 - val_loss: 0.1882 - val_accuracy: 0.9639\n",
            "Epoch 15/70\n",
            "117/117 [==============================] - 0s 4ms/step - loss: 0.1702 - accuracy: 0.9563 - val_loss: 0.1756 - val_accuracy: 0.9663\n",
            "Epoch 16/70\n",
            "117/117 [==============================] - 0s 4ms/step - loss: 0.1499 - accuracy: 0.9593 - val_loss: 0.1751 - val_accuracy: 0.9518\n",
            "Epoch 17/70\n",
            "117/117 [==============================] - 0s 4ms/step - loss: 0.1499 - accuracy: 0.9631 - val_loss: 0.1680 - val_accuracy: 0.9663\n",
            "Epoch 18/70\n",
            "117/117 [==============================] - 0s 4ms/step - loss: 0.1318 - accuracy: 0.9700 - val_loss: 0.1589 - val_accuracy: 0.9590\n",
            "Epoch 19/70\n",
            "117/117 [==============================] - 0s 4ms/step - loss: 0.1353 - accuracy: 0.9658 - val_loss: 0.1738 - val_accuracy: 0.9398\n",
            "Epoch 20/70\n",
            "117/117 [==============================] - 0s 4ms/step - loss: 0.1315 - accuracy: 0.9650 - val_loss: 0.1447 - val_accuracy: 0.9663\n",
            "Epoch 21/70\n",
            "117/117 [==============================] - 0s 4ms/step - loss: 0.1267 - accuracy: 0.9739 - val_loss: 0.1462 - val_accuracy: 0.9663\n",
            "Epoch 22/70\n",
            "117/117 [==============================] - 0s 4ms/step - loss: 0.1176 - accuracy: 0.9732 - val_loss: 0.1417 - val_accuracy: 0.9614\n",
            "Epoch 23/70\n",
            "117/117 [==============================] - 0s 4ms/step - loss: 0.1056 - accuracy: 0.9690 - val_loss: 0.1303 - val_accuracy: 0.9711\n",
            "Epoch 24/70\n",
            "117/117 [==============================] - 0s 4ms/step - loss: 0.1041 - accuracy: 0.9736 - val_loss: 0.1323 - val_accuracy: 0.9639\n",
            "Epoch 25/70\n",
            "117/117 [==============================] - 0s 4ms/step - loss: 0.1160 - accuracy: 0.9710 - val_loss: 0.1242 - val_accuracy: 0.9711\n",
            "Epoch 26/70\n",
            "117/117 [==============================] - 0s 4ms/step - loss: 0.0884 - accuracy: 0.9814 - val_loss: 0.1317 - val_accuracy: 0.9590\n",
            "Epoch 27/70\n",
            "117/117 [==============================] - 0s 4ms/step - loss: 0.0913 - accuracy: 0.9789 - val_loss: 0.1195 - val_accuracy: 0.9735\n",
            "Epoch 28/70\n",
            "117/117 [==============================] - 0s 4ms/step - loss: 0.0989 - accuracy: 0.9731 - val_loss: 0.1167 - val_accuracy: 0.9735\n",
            "Epoch 29/70\n",
            "117/117 [==============================] - 0s 4ms/step - loss: 0.0944 - accuracy: 0.9774 - val_loss: 0.1147 - val_accuracy: 0.9711\n",
            "Epoch 30/70\n",
            "117/117 [==============================] - 0s 4ms/step - loss: 0.0812 - accuracy: 0.9797 - val_loss: 0.1228 - val_accuracy: 0.9687\n",
            "Epoch 31/70\n",
            "117/117 [==============================] - 0s 4ms/step - loss: 0.0974 - accuracy: 0.9783 - val_loss: 0.1064 - val_accuracy: 0.9759\n",
            "Epoch 32/70\n",
            "117/117 [==============================] - 0s 4ms/step - loss: 0.0678 - accuracy: 0.9847 - val_loss: 0.1035 - val_accuracy: 0.9807\n",
            "Epoch 33/70\n",
            "117/117 [==============================] - 0s 4ms/step - loss: 0.0796 - accuracy: 0.9784 - val_loss: 0.1048 - val_accuracy: 0.9783\n",
            "Epoch 34/70\n",
            "117/117 [==============================] - 0s 4ms/step - loss: 0.0834 - accuracy: 0.9826 - val_loss: 0.1012 - val_accuracy: 0.9807\n",
            "Epoch 35/70\n",
            "117/117 [==============================] - 0s 4ms/step - loss: 0.0644 - accuracy: 0.9874 - val_loss: 0.1016 - val_accuracy: 0.9807\n",
            "Epoch 36/70\n",
            "117/117 [==============================] - 0s 4ms/step - loss: 0.0734 - accuracy: 0.9848 - val_loss: 0.1005 - val_accuracy: 0.9807\n",
            "Epoch 37/70\n",
            "117/117 [==============================] - 0s 4ms/step - loss: 0.0668 - accuracy: 0.9852 - val_loss: 0.0971 - val_accuracy: 0.9807\n",
            "Epoch 38/70\n",
            "117/117 [==============================] - 0s 4ms/step - loss: 0.0609 - accuracy: 0.9872 - val_loss: 0.0965 - val_accuracy: 0.9807\n",
            "Epoch 39/70\n",
            "117/117 [==============================] - 0s 4ms/step - loss: 0.0675 - accuracy: 0.9856 - val_loss: 0.0952 - val_accuracy: 0.9807\n",
            "Epoch 40/70\n",
            "117/117 [==============================] - 0s 4ms/step - loss: 0.0563 - accuracy: 0.9868 - val_loss: 0.0938 - val_accuracy: 0.9807\n",
            "Epoch 41/70\n",
            "117/117 [==============================] - 0s 4ms/step - loss: 0.0537 - accuracy: 0.9875 - val_loss: 0.0909 - val_accuracy: 0.9831\n",
            "Epoch 42/70\n",
            "117/117 [==============================] - 0s 4ms/step - loss: 0.0617 - accuracy: 0.9858 - val_loss: 0.0888 - val_accuracy: 0.9831\n",
            "Epoch 43/70\n",
            "117/117 [==============================] - 0s 4ms/step - loss: 0.0544 - accuracy: 0.9879 - val_loss: 0.0879 - val_accuracy: 0.9855\n",
            "Epoch 44/70\n",
            "117/117 [==============================] - 0s 4ms/step - loss: 0.0559 - accuracy: 0.9875 - val_loss: 0.0875 - val_accuracy: 0.9855\n",
            "Epoch 45/70\n",
            "117/117 [==============================] - 0s 4ms/step - loss: 0.0701 - accuracy: 0.9862 - val_loss: 0.0855 - val_accuracy: 0.9831\n",
            "Epoch 46/70\n",
            "117/117 [==============================] - 0s 4ms/step - loss: 0.0508 - accuracy: 0.9890 - val_loss: 0.0853 - val_accuracy: 0.9855\n",
            "Epoch 47/70\n",
            "117/117 [==============================] - 0s 4ms/step - loss: 0.0553 - accuracy: 0.9869 - val_loss: 0.0856 - val_accuracy: 0.9880\n",
            "Epoch 48/70\n",
            "117/117 [==============================] - 0s 4ms/step - loss: 0.0479 - accuracy: 0.9904 - val_loss: 0.0870 - val_accuracy: 0.9831\n",
            "Epoch 49/70\n",
            "117/117 [==============================] - 0s 4ms/step - loss: 0.0471 - accuracy: 0.9884 - val_loss: 0.0822 - val_accuracy: 0.9855\n",
            "Epoch 50/70\n",
            "117/117 [==============================] - 0s 4ms/step - loss: 0.0470 - accuracy: 0.9898 - val_loss: 0.0827 - val_accuracy: 0.9855\n",
            "Epoch 51/70\n",
            "117/117 [==============================] - 0s 4ms/step - loss: 0.0410 - accuracy: 0.9908 - val_loss: 0.0821 - val_accuracy: 0.9855\n",
            "Epoch 52/70\n",
            "117/117 [==============================] - 0s 4ms/step - loss: 0.0420 - accuracy: 0.9919 - val_loss: 0.0817 - val_accuracy: 0.9880\n",
            "Epoch 53/70\n",
            "117/117 [==============================] - 0s 4ms/step - loss: 0.0508 - accuracy: 0.9881 - val_loss: 0.0795 - val_accuracy: 0.9880\n",
            "Epoch 54/70\n",
            "117/117 [==============================] - 0s 4ms/step - loss: 0.0441 - accuracy: 0.9895 - val_loss: 0.0814 - val_accuracy: 0.9831\n",
            "Epoch 55/70\n",
            "117/117 [==============================] - 0s 4ms/step - loss: 0.0471 - accuracy: 0.9881 - val_loss: 0.0819 - val_accuracy: 0.9880\n",
            "Epoch 56/70\n",
            "117/117 [==============================] - 0s 4ms/step - loss: 0.0411 - accuracy: 0.9910 - val_loss: 0.0799 - val_accuracy: 0.9880\n",
            "Epoch 57/70\n",
            "117/117 [==============================] - 0s 4ms/step - loss: 0.0413 - accuracy: 0.9898 - val_loss: 0.0830 - val_accuracy: 0.9880\n",
            "Epoch 58/70\n",
            "117/117 [==============================] - 0s 4ms/step - loss: 0.0459 - accuracy: 0.9876 - val_loss: 0.0787 - val_accuracy: 0.9855\n",
            "Epoch 59/70\n",
            "117/117 [==============================] - 0s 4ms/step - loss: 0.0332 - accuracy: 0.9927 - val_loss: 0.0809 - val_accuracy: 0.9880\n",
            "Epoch 60/70\n",
            "117/117 [==============================] - 0s 4ms/step - loss: 0.0324 - accuracy: 0.9934 - val_loss: 0.0797 - val_accuracy: 0.9880\n",
            "Epoch 61/70\n",
            "117/117 [==============================] - 0s 4ms/step - loss: 0.0406 - accuracy: 0.9919 - val_loss: 0.0820 - val_accuracy: 0.9880\n",
            "Epoch 62/70\n",
            "117/117 [==============================] - 0s 4ms/step - loss: 0.0342 - accuracy: 0.9929 - val_loss: 0.0752 - val_accuracy: 0.9880\n",
            "Epoch 63/70\n",
            "117/117 [==============================] - 0s 4ms/step - loss: 0.0402 - accuracy: 0.9883 - val_loss: 0.0803 - val_accuracy: 0.9880\n",
            "Epoch 64/70\n",
            "117/117 [==============================] - 0s 4ms/step - loss: 0.0320 - accuracy: 0.9929 - val_loss: 0.0787 - val_accuracy: 0.9880\n",
            "Epoch 65/70\n",
            "117/117 [==============================] - 0s 4ms/step - loss: 0.0425 - accuracy: 0.9898 - val_loss: 0.0791 - val_accuracy: 0.9880\n",
            "Epoch 66/70\n",
            "117/117 [==============================] - 0s 4ms/step - loss: 0.0346 - accuracy: 0.9918 - val_loss: 0.0761 - val_accuracy: 0.9880\n",
            "Epoch 67/70\n",
            "117/117 [==============================] - 0s 4ms/step - loss: 0.0322 - accuracy: 0.9930 - val_loss: 0.0792 - val_accuracy: 0.9880\n",
            "Epoch 68/70\n",
            "117/117 [==============================] - 0s 4ms/step - loss: 0.0323 - accuracy: 0.9920 - val_loss: 0.0748 - val_accuracy: 0.9904\n",
            "Epoch 69/70\n",
            "117/117 [==============================] - 0s 4ms/step - loss: 0.0359 - accuracy: 0.9922 - val_loss: 0.0779 - val_accuracy: 0.9904\n",
            "Epoch 70/70\n",
            "117/117 [==============================] - 0s 4ms/step - loss: 0.0310 - accuracy: 0.9930 - val_loss: 0.0755 - val_accuracy: 0.9880\n"
          ],
          "name": "stdout"
        }
      ]
    },
    {
      "cell_type": "code",
      "metadata": {
        "id": "UFsqbHARrqrz"
      },
      "source": [
        "predict = model.predict(x_test)"
      ],
      "execution_count": null,
      "outputs": []
    },
    {
      "cell_type": "code",
      "metadata": {
        "id": "fA8z_KIRsZxC",
        "colab": {
          "base_uri": "https://localhost:8080/"
        },
        "outputId": "0116cefe-cd72-4f14-c8b0-02c9b61c585e"
      },
      "source": [
        "loss, accuracy = model.evaluate(x_test, Y_test) # Оценка модели\n",
        "print(\"\\nLoss: %.2f, Accuracy: %.2f%%\" % (loss, accuracy*100))"
      ],
      "execution_count": null,
      "outputs": [
        {
          "output_type": "stream",
          "text": [
            "33/33 [==============================] - 0s 2ms/step - loss: 0.0420 - accuracy: 0.9932\n",
            "\n",
            "Loss: 0.04, Accuracy: 99.32%\n"
          ],
          "name": "stdout"
        }
      ]
    },
    {
      "cell_type": "code",
      "metadata": {
        "id": "tzLULbe1tZP7",
        "colab": {
          "base_uri": "https://localhost:8080/"
        },
        "outputId": "a96fad71-9b0b-406c-f761-3eed44c85ee7"
      },
      "source": [
        "model.save('/content/model')  # Сохранение модели"
      ],
      "execution_count": null,
      "outputs": [
        {
          "output_type": "stream",
          "text": [
            "WARNING:absl:Found untraced functions such as lstm_cell_6_layer_call_and_return_conditional_losses, lstm_cell_6_layer_call_fn, lstm_cell_6_layer_call_fn, lstm_cell_6_layer_call_and_return_conditional_losses, lstm_cell_6_layer_call_and_return_conditional_losses while saving (showing 5 of 5). These functions will not be directly callable after loading.\n",
            "WARNING:absl:Found untraced functions such as lstm_cell_6_layer_call_and_return_conditional_losses, lstm_cell_6_layer_call_fn, lstm_cell_6_layer_call_fn, lstm_cell_6_layer_call_and_return_conditional_losses, lstm_cell_6_layer_call_and_return_conditional_losses while saving (showing 5 of 5). These functions will not be directly callable after loading.\n"
          ],
          "name": "stderr"
        },
        {
          "output_type": "stream",
          "text": [
            "INFO:tensorflow:Assets written to: /content/model/assets\n"
          ],
          "name": "stdout"
        },
        {
          "output_type": "stream",
          "text": [
            "INFO:tensorflow:Assets written to: /content/model/assets\n"
          ],
          "name": "stderr"
        }
      ]
    }
  ]
}